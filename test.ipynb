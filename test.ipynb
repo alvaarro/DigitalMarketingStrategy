{
 "cells": [
  {
   "cell_type": "markdown",
   "metadata": {},
   "source": [
    "## Data analysis ##"
   ]
  },
  {
   "cell_type": "code",
   "execution_count": 2,
   "metadata": {},
   "outputs": [],
   "source": [
    "import pandas as pd\n",
    "import numpy as np\n",
    "import os"
   ]
  },
  {
   "cell_type": "code",
   "execution_count": 11,
   "metadata": {},
   "outputs": [
    {
     "name": "stdout",
     "output_type": "stream",
     "text": [
      "First few rows of Themeparcs I:\n",
      "                                                                                                                                                                                                                      Date;Profile;Message;Number of Reactions;Number of Shares;Number of Comments (primary);Number of Shares;Comments per post;Comments on posts by fans;Post interaction rate;Engagement;Number of Likes;Link-posts;Picture Posts;Video-posts;Profile-ID;Post-ID;Link\n",
      "12/31/23 9:40 PM;Wild Adventures Theme Park;🎟️🚨...  animal adventures  thrilling rides     and a lakeside Fireworks Spectacular starting ...  after today  2024 Season Pass prices go up too! Lock in the... 09E+12;1  09E+12;13.0;;1.0;;84679583132;84679583132_7701...                                                                                                                                                                                                               \n",
      "12/31/23 8:01 PM;Fun Spot America;See you next ... 17E+11;4           17E+11;33.0;;;;1    8402E+11;184020466977_767286052104076;https://w... NaN          NaN                                                NaN                                                     NaN                                                                                                                                                                                                               \n",
      "12/31/23 7:30 PM;Fun Spot America;\"Don't miss o... NaN                NaN                 NaN                                                NaN          NaN                                                NaN                                                     NaN                                                                                                                                                                                                               \n",
      "#fireworks  #NYE #newyear #Themepark #Hugefun #... 85E+11;2           85E+11;21.0;;;1.0;1 8402E+11;184020466977_767267948772553;https://w... NaN          NaN                                                NaN                                                     NaN                                                                                                                                                                                                               \n",
      "12/31/23 7:00 PM;Disneyland Paris;\"Fijne jaarwi... NaN                NaN                 NaN                                                NaN          NaN                                                NaN                                                     NaN                                                                                                                                                                                                                \n",
      "\n",
      "First few rows of Themeparcs II:\n",
      "  Date;Profile;Message;Number of Reactions;Number of Shares;Number of Comments (primary);Number of Shares;Comments per post;Comments on posts by fans;Post interaction rate;Engagement;Number of Likes;Link-posts;Picture Posts;Video-posts;Profile-ID;Post-ID;Link\n",
      "0  09/10/2023 00:54;Hersheypark;\"Wildcat's Reveng...                                                                                                                                                                                                               \n",
      "1  We are honored to receive the Golden Ticket aw...                                                                                                                                                                                                               \n",
      "2  Celebrate with us by planning a visit: https:/...                                                                                                                                                                                                               \n",
      "3  09/10/2023 00:00;Pacific Park;I believe in a t...                                                                                                                                                                                                               \n",
      "4  09/09/2023 20:00;Sesame Place San Diego;\"We're...                                                                                                                                                                                                                \n",
      "\n",
      "First few rows of Themeparcs III:\n",
      "                                                                                                               Date;Profile;Message;Number of Reactions;Number of Shares;Number of Comments (primary);Number of Shares;Comments per post;Comments on posts by fans;Post interaction rate;Engagement;Number of Likes;Link-posts;Picture Posts;Video-posts;Profile-ID;Post-ID;Link\n",
      "5/27/23 12:20 AM;Silverwood Theme Park;Who's re... 61E+10;7 61E+10;23.0;;;;7                                    62702E+14;762701550509617_6124880620958323;htt...                                                                                                                                                                                                               \n",
      "5/27/23 12:05 AM;Kings Island;Looking for the p... 15E+12;2 15E+12;111.0;;1.0;;1                                55894E+11;155893938367_10162588215773368;https...                                                                                                                                                                                                               \n",
      "5/26/23 11:39 PM;Busch Gardens Williamsburg;\"Bl... NaN      NaN                                                                                               NaN                                                                                                                                                                                                               \n",
      "Tackle all 10 coasters this weekend at the Worl... 77E+12;3 77E+12;153.0;;;1.0;18543728314;18543728314_1015...                                                NaN                                                                                                                                                                                                               \n",
      "5/26/23 11:23 PM;Wild Adventures Theme Park;\"Ha... NaN      NaN                                                                                               NaN                                                                                                                                                                                                                \n",
      "\n",
      "First few rows of Themeparcs IV:\n",
      "  Date;Profile;Message;Number of Reactions;Number of Shares;Number of Comments (primary);Number of Shares;Comments per post;Comments on posts by fans;Post interaction rate;Engagement;Number of Likes;Link-posts;Picture Posts;Video-posts;Profile-ID;Post-ID;Link\n",
      "0  01/12/2023 23:53;California's Great America;\"R...                                                                                                                                                                                                               \n",
      "1                 Apply Here: https://bit.ly/3kaSvJb                                                                                                                                                                                                               \n",
      "2        🚨 Must be between the height of 4'7''-5'3''                                                                                                                                                                                                               \n",
      "3  01/12/2023 23:30;Six Flags Great Escape and Hu...                                                                                                                                                                                                               \n",
      "4                                        #MySixFlags                                                                                                                                                                                                                \n",
      "\n"
     ]
    }
   ],
   "source": [
    "# Define the base path to your CSV files\n",
    "base_path = '/Users/sandervanduin/Desktop/HVA weekly /Digitial Marketing Strategy/DMSteam9'\n",
    "\n",
    "# Explicitly load each CSV file into its own DataFrame\n",
    "df1 = pd.read_csv(os.path.join(base_path, 'Themeparcs I.csv'), on_bad_lines='skip')\n",
    "df2 = pd.read_csv(os.path.join(base_path, 'Themeparcs II.csv'), on_bad_lines='skip')\n",
    "df3 = pd.read_csv(os.path.join(base_path, 'Themeparcs III.csv'), on_bad_lines='skip')\n",
    "df4 = pd.read_csv(os.path.join(base_path, 'Themeparcs IV.csv'), on_bad_lines='skip')\n",
    "\n",
    "# Example operation: print the first few rows of each DataFrame\n",
    "print(\"First few rows of Themeparcs I:\")\n",
    "print(df1.head(), \"\\n\")\n",
    "\n",
    "print(\"First few rows of Themeparcs II:\")\n",
    "print(df2.head(), \"\\n\")\n",
    "\n",
    "print(\"First few rows of Themeparcs III:\")\n",
    "print(df3.head(), \"\\n\")\n",
    "\n",
    "print(\"First few rows of Themeparcs IV:\")\n",
    "print(df4.head(), \"\\n\")\n",
    "\n",
    "#"
   ]
  },
  {
   "cell_type": "code",
   "execution_count": null,
   "metadata": {},
   "outputs": [],
   "source": []
  }
 ],
 "metadata": {
  "kernelspec": {
   "display_name": "Python 3",
   "language": "python",
   "name": "python3"
  },
  "language_info": {
   "codemirror_mode": {
    "name": "ipython",
    "version": 3
   },
   "file_extension": ".py",
   "mimetype": "text/x-python",
   "name": "python",
   "nbconvert_exporter": "python",
   "pygments_lexer": "ipython3",
   "version": "3.11.4"
  }
 },
 "nbformat": 4,
 "nbformat_minor": 2
}
